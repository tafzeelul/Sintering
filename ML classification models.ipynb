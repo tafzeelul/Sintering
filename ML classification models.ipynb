{
 "cells": [
  {
   "cell_type": "code",
   "execution_count": 39,
   "id": "4bf14a20",
   "metadata": {},
   "outputs": [],
   "source": [
    "import pandas as pd\n",
    "import seaborn as sns\n",
    "import numpy as np\n",
    "import matplotlib.pyplot as plt\n",
    "from sklearn.metrics import accuracy_score"
   ]
  },
  {
   "cell_type": "code",
   "execution_count": 40,
   "id": "20b37a31",
   "metadata": {},
   "outputs": [
    {
     "data": {
      "text/html": [
       "<div>\n",
       "<style scoped>\n",
       "    .dataframe tbody tr th:only-of-type {\n",
       "        vertical-align: middle;\n",
       "    }\n",
       "\n",
       "    .dataframe tbody tr th {\n",
       "        vertical-align: top;\n",
       "    }\n",
       "\n",
       "    .dataframe thead th {\n",
       "        text-align: right;\n",
       "    }\n",
       "</style>\n",
       "<table border=\"1\" class=\"dataframe\">\n",
       "  <thead>\n",
       "    <tr style=\"text-align: right;\">\n",
       "      <th></th>\n",
       "      <th>Tin  content</th>\n",
       "      <th>Alloy composition</th>\n",
       "      <th>Theoretical density</th>\n",
       "      <th>Solidus temperature</th>\n",
       "      <th>Powder type</th>\n",
       "      <th>Hardness</th>\n",
       "      <th>Particle size</th>\n",
       "      <th>Compaction pressure</th>\n",
       "      <th>Heating rate</th>\n",
       "      <th>Sintering temperature</th>\n",
       "      <th>Holding time</th>\n",
       "      <th>Sintering atmosphere</th>\n",
       "      <th>Green density</th>\n",
       "      <th>Densification parameter</th>\n",
       "    </tr>\n",
       "  </thead>\n",
       "  <tbody>\n",
       "    <tr>\n",
       "      <th>0</th>\n",
       "      <td>0.0</td>\n",
       "      <td>24.8640</td>\n",
       "      <td>9.154</td>\n",
       "      <td>326</td>\n",
       "      <td>1</td>\n",
       "      <td>224.560</td>\n",
       "      <td>30.9</td>\n",
       "      <td>335</td>\n",
       "      <td>5</td>\n",
       "      <td>800</td>\n",
       "      <td>0.33</td>\n",
       "      <td>2.0</td>\n",
       "      <td>6.497705</td>\n",
       "      <td>1</td>\n",
       "    </tr>\n",
       "    <tr>\n",
       "      <th>1</th>\n",
       "      <td>0.0</td>\n",
       "      <td>24.8640</td>\n",
       "      <td>9.154</td>\n",
       "      <td>326</td>\n",
       "      <td>1</td>\n",
       "      <td>224.560</td>\n",
       "      <td>30.9</td>\n",
       "      <td>335</td>\n",
       "      <td>5</td>\n",
       "      <td>800</td>\n",
       "      <td>0.67</td>\n",
       "      <td>2.0</td>\n",
       "      <td>6.974476</td>\n",
       "      <td>1</td>\n",
       "    </tr>\n",
       "    <tr>\n",
       "      <th>2</th>\n",
       "      <td>0.0</td>\n",
       "      <td>24.8640</td>\n",
       "      <td>9.154</td>\n",
       "      <td>326</td>\n",
       "      <td>1</td>\n",
       "      <td>224.560</td>\n",
       "      <td>30.9</td>\n",
       "      <td>335</td>\n",
       "      <td>5</td>\n",
       "      <td>800</td>\n",
       "      <td>1.00</td>\n",
       "      <td>2.0</td>\n",
       "      <td>7.254545</td>\n",
       "      <td>1</td>\n",
       "    </tr>\n",
       "    <tr>\n",
       "      <th>3</th>\n",
       "      <td>1.0</td>\n",
       "      <td>25.6367</td>\n",
       "      <td>9.133</td>\n",
       "      <td>326</td>\n",
       "      <td>1</td>\n",
       "      <td>222.984</td>\n",
       "      <td>30.9</td>\n",
       "      <td>335</td>\n",
       "      <td>5</td>\n",
       "      <td>800</td>\n",
       "      <td>0.33</td>\n",
       "      <td>2.0</td>\n",
       "      <td>6.946334</td>\n",
       "      <td>1</td>\n",
       "    </tr>\n",
       "    <tr>\n",
       "      <th>4</th>\n",
       "      <td>1.0</td>\n",
       "      <td>25.6367</td>\n",
       "      <td>9.133</td>\n",
       "      <td>326</td>\n",
       "      <td>1</td>\n",
       "      <td>222.984</td>\n",
       "      <td>30.9</td>\n",
       "      <td>335</td>\n",
       "      <td>5</td>\n",
       "      <td>800</td>\n",
       "      <td>0.67</td>\n",
       "      <td>2.0</td>\n",
       "      <td>6.717047</td>\n",
       "      <td>1</td>\n",
       "    </tr>\n",
       "  </tbody>\n",
       "</table>\n",
       "</div>"
      ],
      "text/plain": [
       "   Tin  content  Alloy composition  Theoretical density  Solidus temperature  \\\n",
       "0           0.0            24.8640                9.154                  326   \n",
       "1           0.0            24.8640                9.154                  326   \n",
       "2           0.0            24.8640                9.154                  326   \n",
       "3           1.0            25.6367                9.133                  326   \n",
       "4           1.0            25.6367                9.133                  326   \n",
       "\n",
       "   Powder type  Hardness   Particle size  Compaction pressure  Heating rate  \\\n",
       "0            1    224.560           30.9                  335             5   \n",
       "1            1    224.560           30.9                  335             5   \n",
       "2            1    224.560           30.9                  335             5   \n",
       "3            1    222.984           30.9                  335             5   \n",
       "4            1    222.984           30.9                  335             5   \n",
       "\n",
       "   Sintering temperature  Holding time  Sintering atmosphere  Green density  \\\n",
       "0                    800          0.33                   2.0       6.497705   \n",
       "1                    800          0.67                   2.0       6.974476   \n",
       "2                    800          1.00                   2.0       7.254545   \n",
       "3                    800          0.33                   2.0       6.946334   \n",
       "4                    800          0.67                   2.0       6.717047   \n",
       "\n",
       "   Densification parameter  \n",
       "0                        1  \n",
       "1                        1  \n",
       "2                        1  \n",
       "3                        1  \n",
       "4                        1  "
      ]
     },
     "execution_count": 40,
     "metadata": {},
     "output_type": "execute_result"
    }
   ],
   "source": [
    "df = pd.read_csv(\"C:\\\\Users\\\\Tafzeel\\\\Downloads\\\\bronze.csv\")\n",
    "df.head()"
   ]
  },
  {
   "cell_type": "code",
   "execution_count": 41,
   "id": "d9e2faec",
   "metadata": {},
   "outputs": [
    {
     "data": {
      "text/html": [
       "<div>\n",
       "<style scoped>\n",
       "    .dataframe tbody tr th:only-of-type {\n",
       "        vertical-align: middle;\n",
       "    }\n",
       "\n",
       "    .dataframe tbody tr th {\n",
       "        vertical-align: top;\n",
       "    }\n",
       "\n",
       "    .dataframe thead th {\n",
       "        text-align: right;\n",
       "    }\n",
       "</style>\n",
       "<table border=\"1\" class=\"dataframe\">\n",
       "  <thead>\n",
       "    <tr style=\"text-align: right;\">\n",
       "      <th></th>\n",
       "      <th>Tin  content</th>\n",
       "      <th>Alloy composition</th>\n",
       "      <th>Theoretical density</th>\n",
       "      <th>Solidus temperature</th>\n",
       "      <th>Powder type</th>\n",
       "      <th>Hardness</th>\n",
       "      <th>Particle size</th>\n",
       "      <th>Compaction pressure</th>\n",
       "      <th>Heating rate</th>\n",
       "      <th>Sintering temperature</th>\n",
       "      <th>Holding time</th>\n",
       "      <th>Sintering atmosphere</th>\n",
       "      <th>Green density</th>\n",
       "      <th>Densification parameter</th>\n",
       "    </tr>\n",
       "  </thead>\n",
       "  <tbody>\n",
       "    <tr>\n",
       "      <th>count</th>\n",
       "      <td>210.000000</td>\n",
       "      <td>210.000000</td>\n",
       "      <td>210.000000</td>\n",
       "      <td>210.000000</td>\n",
       "      <td>210.000000</td>\n",
       "      <td>210.000000</td>\n",
       "      <td>210.000000</td>\n",
       "      <td>210.000000</td>\n",
       "      <td>210.000000</td>\n",
       "      <td>210.000000</td>\n",
       "      <td>210.000000</td>\n",
       "      <td>210.000000</td>\n",
       "      <td>210.000000</td>\n",
       "      <td>210.000000</td>\n",
       "    </tr>\n",
       "    <tr>\n",
       "      <th>mean</th>\n",
       "      <td>10.564286</td>\n",
       "      <td>16.935547</td>\n",
       "      <td>8.744122</td>\n",
       "      <td>762.652381</td>\n",
       "      <td>0.576190</td>\n",
       "      <td>230.524705</td>\n",
       "      <td>48.421333</td>\n",
       "      <td>373.176190</td>\n",
       "      <td>5.523810</td>\n",
       "      <td>777.785714</td>\n",
       "      <td>0.953514</td>\n",
       "      <td>10.113524</td>\n",
       "      <td>6.781443</td>\n",
       "      <td>0.642857</td>\n",
       "    </tr>\n",
       "    <tr>\n",
       "      <th>std</th>\n",
       "      <td>6.924142</td>\n",
       "      <td>8.952145</td>\n",
       "      <td>0.187680</td>\n",
       "      <td>210.675828</td>\n",
       "      <td>0.550254</td>\n",
       "      <td>27.814397</td>\n",
       "      <td>50.854903</td>\n",
       "      <td>171.816143</td>\n",
       "      <td>2.286198</td>\n",
       "      <td>147.429252</td>\n",
       "      <td>2.538222</td>\n",
       "      <td>13.541097</td>\n",
       "      <td>0.919095</td>\n",
       "      <td>0.480302</td>\n",
       "    </tr>\n",
       "    <tr>\n",
       "      <th>min</th>\n",
       "      <td>0.000000</td>\n",
       "      <td>0.000000</td>\n",
       "      <td>8.374000</td>\n",
       "      <td>326.000000</td>\n",
       "      <td>0.000000</td>\n",
       "      <td>190.800000</td>\n",
       "      <td>20.000000</td>\n",
       "      <td>100.000000</td>\n",
       "      <td>5.000000</td>\n",
       "      <td>250.000000</td>\n",
       "      <td>0.000000</td>\n",
       "      <td>0.000000</td>\n",
       "      <td>5.000000</td>\n",
       "      <td>0.000000</td>\n",
       "    </tr>\n",
       "    <tr>\n",
       "      <th>25%</th>\n",
       "      <td>8.000000</td>\n",
       "      <td>11.871000</td>\n",
       "      <td>8.690000</td>\n",
       "      <td>755.000000</td>\n",
       "      <td>0.000000</td>\n",
       "      <td>224.560000</td>\n",
       "      <td>30.900000</td>\n",
       "      <td>200.000000</td>\n",
       "      <td>5.000000</td>\n",
       "      <td>775.000000</td>\n",
       "      <td>0.330000</td>\n",
       "      <td>1.250000</td>\n",
       "      <td>6.215867</td>\n",
       "      <td>0.000000</td>\n",
       "    </tr>\n",
       "    <tr>\n",
       "      <th>50%</th>\n",
       "      <td>10.000000</td>\n",
       "      <td>14.245200</td>\n",
       "      <td>8.727800</td>\n",
       "      <td>860.000000</td>\n",
       "      <td>1.000000</td>\n",
       "      <td>230.000000</td>\n",
       "      <td>30.900000</td>\n",
       "      <td>335.000000</td>\n",
       "      <td>5.000000</td>\n",
       "      <td>815.000000</td>\n",
       "      <td>0.500000</td>\n",
       "      <td>2.000000</td>\n",
       "      <td>6.840000</td>\n",
       "      <td>1.000000</td>\n",
       "    </tr>\n",
       "    <tr>\n",
       "      <th>75%</th>\n",
       "      <td>12.000000</td>\n",
       "      <td>24.864000</td>\n",
       "      <td>8.775000</td>\n",
       "      <td>860.000000</td>\n",
       "      <td>1.000000</td>\n",
       "      <td>230.000000</td>\n",
       "      <td>44.000000</td>\n",
       "      <td>510.000000</td>\n",
       "      <td>5.000000</td>\n",
       "      <td>850.000000</td>\n",
       "      <td>0.670000</td>\n",
       "      <td>26.700000</td>\n",
       "      <td>7.260000</td>\n",
       "      <td>1.000000</td>\n",
       "    </tr>\n",
       "    <tr>\n",
       "      <th>max</th>\n",
       "      <td>29.600000</td>\n",
       "      <td>35.138160</td>\n",
       "      <td>9.154000</td>\n",
       "      <td>1085.000000</td>\n",
       "      <td>2.000000</td>\n",
       "      <td>339.500000</td>\n",
       "      <td>250.000000</td>\n",
       "      <td>800.000000</td>\n",
       "      <td>20.000000</td>\n",
       "      <td>970.000000</td>\n",
       "      <td>32.000000</td>\n",
       "      <td>39.940000</td>\n",
       "      <td>8.630000</td>\n",
       "      <td>1.000000</td>\n",
       "    </tr>\n",
       "  </tbody>\n",
       "</table>\n",
       "</div>"
      ],
      "text/plain": [
       "       Tin  content  Alloy composition  Theoretical density  \\\n",
       "count    210.000000         210.000000           210.000000   \n",
       "mean      10.564286          16.935547             8.744122   \n",
       "std        6.924142           8.952145             0.187680   \n",
       "min        0.000000           0.000000             8.374000   \n",
       "25%        8.000000          11.871000             8.690000   \n",
       "50%       10.000000          14.245200             8.727800   \n",
       "75%       12.000000          24.864000             8.775000   \n",
       "max       29.600000          35.138160             9.154000   \n",
       "\n",
       "       Solidus temperature  Powder type   Hardness   Particle size  \\\n",
       "count           210.000000   210.000000  210.000000     210.000000   \n",
       "mean            762.652381     0.576190  230.524705      48.421333   \n",
       "std             210.675828     0.550254   27.814397      50.854903   \n",
       "min             326.000000     0.000000  190.800000      20.000000   \n",
       "25%             755.000000     0.000000  224.560000      30.900000   \n",
       "50%             860.000000     1.000000  230.000000      30.900000   \n",
       "75%             860.000000     1.000000  230.000000      44.000000   \n",
       "max            1085.000000     2.000000  339.500000     250.000000   \n",
       "\n",
       "       Compaction pressure  Heating rate  Sintering temperature  Holding time  \\\n",
       "count           210.000000    210.000000             210.000000    210.000000   \n",
       "mean            373.176190      5.523810             777.785714      0.953514   \n",
       "std             171.816143      2.286198             147.429252      2.538222   \n",
       "min             100.000000      5.000000             250.000000      0.000000   \n",
       "25%             200.000000      5.000000             775.000000      0.330000   \n",
       "50%             335.000000      5.000000             815.000000      0.500000   \n",
       "75%             510.000000      5.000000             850.000000      0.670000   \n",
       "max             800.000000     20.000000             970.000000     32.000000   \n",
       "\n",
       "       Sintering atmosphere  Green density  Densification parameter  \n",
       "count            210.000000     210.000000               210.000000  \n",
       "mean              10.113524       6.781443                 0.642857  \n",
       "std               13.541097       0.919095                 0.480302  \n",
       "min                0.000000       5.000000                 0.000000  \n",
       "25%                1.250000       6.215867                 0.000000  \n",
       "50%                2.000000       6.840000                 1.000000  \n",
       "75%               26.700000       7.260000                 1.000000  \n",
       "max               39.940000       8.630000                 1.000000  "
      ]
     },
     "execution_count": 41,
     "metadata": {},
     "output_type": "execute_result"
    }
   ],
   "source": [
    "#Get statistics about the data\n",
    "df.describe()"
   ]
  },
  {
   "cell_type": "code",
   "execution_count": 42,
   "id": "c009885b",
   "metadata": {},
   "outputs": [
    {
     "name": "stdout",
     "output_type": "stream",
     "text": [
      "[[ 0.         24.864       9.154      ...  0.33        2.\n",
      "   6.49770535]\n",
      " [ 0.         24.864       9.154      ...  0.67        2.\n",
      "   6.9744762 ]\n",
      " [ 0.         24.864       9.154      ...  1.          2.\n",
      "   7.254545  ]\n",
      " ...\n",
      " [12.         14.2452      8.69       ...  0.5         2.\n",
      "   7.11      ]\n",
      " [12.         14.2452      8.69       ...  0.5         2.\n",
      "   5.18      ]\n",
      " [12.         14.2452      8.69       ...  0.5         2.\n",
      "   7.06      ]]\n"
     ]
    }
   ],
   "source": [
    "X = df.iloc[:, :-1].values\n",
    "print(X)"
   ]
  },
  {
   "cell_type": "code",
   "execution_count": 43,
   "id": "0b2b7a72",
   "metadata": {},
   "outputs": [
    {
     "name": "stdout",
     "output_type": "stream",
     "text": [
      "[1 1 1 1 1 1 1 1 1 1 1 1 1 1 1 1 1 1 1 1 1 1 1 1 0 0 0 0 1 1 1 0 1 1 1 0 1\n",
      " 0 0 0 0 0 0 0 1 1 1 0 1 1 0 0 0 0 1 0 0 0 0 0 1 0 0 1 1 1 1 0 0 0 1 1 1 1\n",
      " 1 1 1 1 1 1 1 1 1 1 1 1 1 1 1 1 1 1 1 1 1 1 1 1 1 0 1 1 1 1 1 1 1 1 1 1 1\n",
      " 1 1 1 1 1 1 1 1 1 1 1 1 1 1 0 0 0 0 0 1 0 0 0 0 0 0 0 0 1 1 1 1 1 1 1 1 1\n",
      " 1 1 1 0 1 1 1 1 0 1 0 0 0 0 1 1 1 1 1 1 1 1 0 0 0 0 0 0 0 0 0 0 1 1 1 0 0\n",
      " 0 0 0 0 0 1 1 1 0 0 0 0 0 0 0 1 0 1 1 1 1 1 0 1 0]\n"
     ]
    }
   ],
   "source": [
    "y = df.iloc[:, -1].values\n",
    "print(y)"
   ]
  },
  {
   "cell_type": "code",
   "execution_count": 44,
   "id": "86a79640",
   "metadata": {},
   "outputs": [],
   "source": [
    "from sklearn.model_selection import train_test_split\n",
    "X_train, X_test, y_train, y_test = train_test_split(X,y,test_size = 0.3, random_state = 10)"
   ]
  },
  {
   "cell_type": "code",
   "execution_count": 45,
   "id": "21b23474",
   "metadata": {},
   "outputs": [],
   "source": [
    "from sklearn.preprocessing import StandardScaler\n",
    "sc_X = StandardScaler()\n",
    "X_train = sc_X.fit_transform(X_train)\n",
    "X_test = sc_X.transform(X_test)"
   ]
  },
  {
   "cell_type": "code",
   "execution_count": 46,
   "id": "b16b383c",
   "metadata": {},
   "outputs": [],
   "source": [
    "from sklearn import metrics\n",
    "def plot_confusion_metrix(y_test,model_test):\n",
    "    cm = metrics.confusion_matrix(y_test, model_test)\n",
    "    plt.figure(1)\n",
    "    plt.clf()\n",
    "    plt.imshow(cm, interpolation='nearest', cmap=plt.cm.Wistia)\n",
    "    classNames = ['Swelling','Shrinkage']\n",
    "    plt.title('Confusion Matrix')\n",
    "    plt.ylabel('True label')\n",
    "    plt.xlabel('Predicted label')\n",
    "    tick_marks = np.arange(len(classNames))\n",
    "    plt.xticks(tick_marks, classNames)\n",
    "    plt.yticks(tick_marks, classNames)\n",
    "    s = [['TN','FP'], ['FN', 'TP']]\n",
    "    for i in range(2):\n",
    "        for j in range(2):\n",
    "            plt.text(j,i, str(s[i][j])+\" = \"+str(cm[i][j]))\n",
    "    plt.show()"
   ]
  },
  {
   "cell_type": "code",
   "execution_count": 47,
   "id": "ed9e0bff",
   "metadata": {},
   "outputs": [],
   "source": [
    "from sklearn.metrics import roc_curve, auc\n",
    "def report_performance(model):\n",
    "\n",
    "    model_test = model.predict(X_test)\n",
    "\n",
    "    print(\"\\n\\nConfusion Matrix:\")\n",
    "    print(\"{0}\".format(metrics.confusion_matrix(y_test, model_test)))\n",
    "    print(\"\\n\\nClassification Report: \")\n",
    "    print(metrics.classification_report(y_test, model_test))\n",
    "    #cm = metrics.confusion_matrix(y_test, model_test)\n",
    "    plot_confusion_metrix(y_test, model_test)\n",
    "\n",
    "def roc_curves(model):\n",
    "    predictions_test = model.predict(X_test)\n",
    "    fpr, tpr, thresholds = roc_curve(predictions_test,y_test)\n",
    "    roc_auc = auc(fpr, tpr)\n",
    "\n",
    "    plt.figure()\n",
    "    plt.plot(fpr, tpr, color='darkorange', lw=1, label='ROC curve (area = %0.2f)' % roc_auc)\n",
    "    plt.plot([0, 1], [0, 1], color='navy', lw=2, linestyle='--')\n",
    "    plt.xlim([0.0, 1.0])\n",
    "    plt.ylim([0.0, 1.05])\n",
    "    plt.xlabel('False Positive Rate')\n",
    "    plt.ylabel('True Positive Rate')\n",
    "    plt.title('Receiver operating characteristic')\n",
    "    plt.legend(loc=\"lower right\")\n",
    "    plt.show()"
   ]
  },
  {
   "cell_type": "code",
   "execution_count": 48,
   "id": "63aa9be5",
   "metadata": {},
   "outputs": [],
   "source": [
    "total_models = ['LogisticRegression','GridSearchCV','SVC','RandomForestClassifier']\n",
    "total_accuracy = {}\n",
    "for i in total_models:\n",
    "    total_accuracy[str(i)] = 0\n",
    "def accuracy(model):\n",
    "    pred = model.predict(X_test)\n",
    "    accu = metrics.accuracy_score(y_test,pred)\n",
    "    print(\"\\nAcuuracy Of the Model: \",accu,\"\\n\\n\")\n",
    "    total_accuracy[str((str(model).split('(')[0]))] = accu"
   ]
  },
  {
   "cell_type": "code",
   "execution_count": 49,
   "id": "8dfe1a69",
   "metadata": {},
   "outputs": [],
   "source": [
    "from sklearn.linear_model import LogisticRegression\n",
    "from sklearn.svm import SVC\n",
    "from sklearn.model_selection import GridSearchCV\n",
    "from sklearn.ensemble import RandomForestClassifier"
   ]
  },
  {
   "cell_type": "code",
   "execution_count": 50,
   "id": "77ec1f34",
   "metadata": {},
   "outputs": [
    {
     "name": "stdout",
     "output_type": "stream",
     "text": [
      "Training Accuracy: 0.8979591836734694\n",
      "Testing Accuracy: 0.8571428571428571\n",
      "\n",
      "\n",
      "Confusion Matrix:\n",
      "[[19  5]\n",
      " [ 4 35]]\n",
      "\n",
      "\n",
      "Classification Report: \n",
      "              precision    recall  f1-score   support\n",
      "\n",
      "           0       0.83      0.79      0.81        24\n",
      "           1       0.88      0.90      0.89        39\n",
      "\n",
      "    accuracy                           0.86        63\n",
      "   macro avg       0.85      0.84      0.85        63\n",
      "weighted avg       0.86      0.86      0.86        63\n",
      "\n"
     ]
    },
    {
     "data": {
      "image/png": "[encoded data removed]",
      "text/plain": [
       "<Figure size 432x288 with 1 Axes>"
      ]
     },
     "metadata": {
      "needs_background": "light"
     },
     "output_type": "display_data"
    },
    {
     "data": {
      "image/png": "[encoded data removed]",
      "text/plain": [
       "<Figure size 432x288 with 1 Axes>"
      ]
     },
     "metadata": {
      "needs_background": "light"
     },
     "output_type": "display_data"
    },
    {
     "name": "stdout",
     "output_type": "stream",
     "text": [
      "\n",
      "Acuuracy Of the Model:  0.8571428571428571 \n",
      "\n",
      "\n"
     ]
    }
   ],
   "source": [
    "# Creating a logistic regression classifier\n",
    "lr = LogisticRegression()\n",
    "\n",
    "# Fitting the model on the training data\n",
    "lr.fit(X_train, y_train)\n",
    "\n",
    "# Predicting on the training and testing data\n",
    "y_train_pred = lr.predict(X_train)\n",
    "y_test_pred = lr.predict(X_test)\n",
    "\n",
    "# Printing the training and testing accuracy\n",
    "train_accuracy = accuracy_score(y_train, y_train_pred)\n",
    "test_accuracy = accuracy_score(y_test, y_test_pred)\n",
    "print(\"Training Accuracy:\", train_accuracy)\n",
    "print(\"Testing Accuracy:\", test_accuracy)\n",
    "report_performance(lr) \n",
    "roc_curves(lr)\n",
    "accuracy(lr)"
   ]
  },
  {
   "cell_type": "code",
   "execution_count": 51,
   "id": "663369db",
   "metadata": {},
   "outputs": [
    {
     "name": "stdout",
     "output_type": "stream",
     "text": [
      "Training Accuracy: 0.891156462585034\n",
      "Testing Accuracy: 0.8412698412698413\n",
      "\n",
      "\n",
      "Confusion Matrix:\n",
      "[[18  6]\n",
      " [ 4 35]]\n",
      "\n",
      "\n",
      "Classification Report: \n",
      "              precision    recall  f1-score   support\n",
      "\n",
      "           0       0.82      0.75      0.78        24\n",
      "           1       0.85      0.90      0.88        39\n",
      "\n",
      "    accuracy                           0.84        63\n",
      "   macro avg       0.84      0.82      0.83        63\n",
      "weighted avg       0.84      0.84      0.84        63\n",
      "\n"
     ]
    },
    {
     "data": {
      "image/png": "[encoded data removed]",
      "text/plain": [
       "<Figure size 432x288 with 1 Axes>"
      ]
     },
     "metadata": {
      "needs_background": "light"
     },
     "output_type": "display_data"
    },
    {
     "data": {
      "image/png": "[encoded data removed]",
      "text/plain": [
       "<Figure size 432x288 with 1 Axes>"
      ]
     },
     "metadata": {
      "needs_background": "light"
     },
     "output_type": "display_data"
    },
    {
     "name": "stdout",
     "output_type": "stream",
     "text": [
      "\n",
      "Acuuracy Of the Model:  0.8412698412698413 \n",
      "\n",
      "\n"
     ]
    }
   ],
   "source": [
    "# Creating a support vector machine classifier\n",
    "svm = SVC(kernel=\"linear\", C= 0.2,random_state= 20)\n",
    "\n",
    "# Fitting the svm model on the training data\n",
    "svm.fit(X_train, y_train)\n",
    "\n",
    "# Predicting on the training and testing data\n",
    "y_train_pred = svm.predict(X_train)\n",
    "y_test_pred = svm.predict(X_test)\n",
    "\n",
    "# Printing the training and testing accuracy\n",
    "train_accuracy = accuracy_score(y_train, y_train_pred)\n",
    "test_accuracy = accuracy_score(y_test, y_test_pred)\n",
    "print(\"Training Accuracy:\", train_accuracy)\n",
    "print(\"Testing Accuracy:\", test_accuracy)\n",
    "\n",
    "report_performance(svm) \n",
    "roc_curves(svm)\n",
    "accuracy(svm)"
   ]
  },
  {
   "cell_type": "code",
   "execution_count": 52,
   "id": "87648dc7",
   "metadata": {},
   "outputs": [
    {
     "name": "stdout",
     "output_type": "stream",
     "text": [
      "Training Accuracy: 0.9387755102040817\n",
      "Testing Accuracy: 0.9206349206349206\n",
      "Best parameters set found on development set:\n",
      "{'criterion': 'gini', 'max_depth': 5, 'n_estimators': 200}\n",
      "\n",
      "\n",
      "Confusion Matrix:\n",
      "[[21  3]\n",
      " [ 2 37]]\n",
      "\n",
      "\n",
      "Classification Report: \n",
      "              precision    recall  f1-score   support\n",
      "\n",
      "           0       0.91      0.88      0.89        24\n",
      "           1       0.93      0.95      0.94        39\n",
      "\n",
      "    accuracy                           0.92        63\n",
      "   macro avg       0.92      0.91      0.92        63\n",
      "weighted avg       0.92      0.92      0.92        63\n",
      "\n"
     ]
    },
    {
     "data": {
      "image/png": "[encoded data removed]",
      "text/plain": [
       "<Figure size 432x288 with 1 Axes>"
      ]
     },
     "metadata": {
      "needs_background": "light"
     },
     "output_type": "display_data"
    },
    {
     "data": {
      "image/png": "[encoded data removed]",
      "text/plain": [
       "<Figure size 432x288 with 1 Axes>"
      ]
     },
     "metadata": {
      "needs_background": "light"
     },
     "output_type": "display_data"
    },
    {
     "name": "stdout",
     "output_type": "stream",
     "text": [
      "\n",
      "Acuuracy Of the Model:  0.9206349206349206 \n",
      "\n",
      "\n"
     ]
    }
   ],
   "source": [
    "# Creating a random forest classifier\n",
    "rfc=RandomForestClassifier(random_state= 10)\n",
    "\n",
    "param_grid = { \n",
    "    'n_estimators': [200],\n",
    "    'max_depth' : [4,5,6,7,8],\n",
    "    'criterion' :['gini']\n",
    "}\n",
    "\n",
    "CV_rfc = GridSearchCV(estimator=rfc, param_grid=param_grid, cv= 5,scoring = 'roc_auc')\n",
    "\n",
    "\n",
    "# Fitting the rfc model on the training data\n",
    "CV_rfc.fit(X_train, y_train)\n",
    "\n",
    "# Predicting on the training and testing data\n",
    "y_train_pred = CV_rfc.predict(X_train)\n",
    "y_test_pred = CV_rfc.predict(X_test)\n",
    "\n",
    "# Printing the training and testing accuracy\n",
    "train_accuracy = accuracy_score(y_train, y_train_pred)\n",
    "test_accuracy = accuracy_score(y_test, y_test_pred)\n",
    "print(\"Training Accuracy:\", train_accuracy)\n",
    "print(\"Testing Accuracy:\", test_accuracy)\n",
    "\n",
    "print(\"Best parameters set found on development set:\")\n",
    "print(CV_rfc.best_params_)\n",
    "report_performance(CV_rfc) \n",
    "roc_curves(CV_rfc)\n",
    "accuracy(CV_rfc)"
   ]
  },
  {
   "cell_type": "code",
   "execution_count": null,
   "id": "8c6bed52",
   "metadata": {},
   "outputs": [],
   "source": []
  }
 ],
 "metadata": {
  "kernelspec": {
   "display_name": "Python 3 (ipykernel)",
   "language": "python",
   "name": "python3"
  },
  "language_info": {
   "codemirror_mode": {
    "name": "ipython",
    "version": 3
   },
   "file_extension": ".py",
   "mimetype": "text/x-python",
   "name": "python",
   "nbconvert_exporter": "python",
   "pygments_lexer": "ipython3",
   "version": "3.9.12"
  }
 },
 "nbformat": 4,
 "nbformat_minor": 5
}
